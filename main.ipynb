{
 "cells": [
  {
   "cell_type": "markdown",
   "metadata": {},
   "source": [
    "### Import packages"
   ]
  },
  {
   "cell_type": "code",
   "execution_count": 1,
   "metadata": {},
   "outputs": [],
   "source": [
    "import pandas as pd \n",
    "import numpy as np\n",
    "import matplotlib.pyplot as plt"
   ]
  },
  {
   "cell_type": "code",
   "execution_count": null,
   "metadata": {},
   "outputs": [],
   "source": [
    "# 'consensus_adj_mat.csv'\n",
    "adj_mat = pd.read_csv('dataset/consensus_adj_mat.csv')\n",
    "adj_mat = adj_mat.drop(columns=['Unnamed: 0'])\n",
    "\n",
    "adj_mat"
   ]
  },
  {
   "cell_type": "code",
   "execution_count": null,
   "metadata": {},
   "outputs": [],
   "source": [
    "# 'sachs_bin.csv'\n",
    "sachs_bin = pd.read_csv('dataset/sachs_bin.csv')\n",
    "sachs_bin = sachs_bin.astype(int) # convert to integer\n",
    "\n",
    "# Convert each columun into a observed data vector:\n",
    "X1_obs = sachs_bin['Akt']\n",
    "X2_obs = sachs_bin['Erk']\n",
    "X3_obs = sachs_bin['Jnk']\n",
    "X4_obs = sachs_bin['Mek']\n",
    "X5_obs = sachs_bin['P38']\n",
    "X6_obs = sachs_bin['PIP2']\n",
    "X7_obs = sachs_bin['PIP3']\n",
    "X8_obs = sachs_bin['PKA']\n",
    "X9_obs = sachs_bin['PKC']"
   ]
  }
 ],
 "metadata": {
  "kernelspec": {
   "display_name": "base",
   "language": "python",
   "name": "python3"
  },
  "language_info": {
   "codemirror_mode": {
    "name": "ipython",
    "version": 3
   },
   "file_extension": ".py",
   "mimetype": "text/x-python",
   "name": "python",
   "nbconvert_exporter": "python",
   "pygments_lexer": "ipython3",
   "version": "3.10.9"
  }
 },
 "nbformat": 4,
 "nbformat_minor": 2
}
